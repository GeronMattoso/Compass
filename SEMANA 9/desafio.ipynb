{
 "cells": [
  {
   "cell_type": "markdown",
   "metadata": {},
   "source": [
    "<head>\n",
    "    <h1>Semana 9 Desafio_XPTO<h1>\n",
    "<head>\n",
    "    <div>\n",
    "    <img align=\"left\" alt=\"Geron-Python\" height=\"100\" width=\"150\" \n",
    "src=\"https://spark.apache.org/images/spark-logo-rev.svg\">\n",
    "    </div>"
   ]
  },
  {
   "cell_type": "markdown",
   "metadata": {},
   "source": [
    "#### 5. Desafio XPTO:\n",
    "Carregar os dados da RAW Zone para a REF Zone, unificando os dados num Bucket S3 persistino no formato parquet.\n",
    "Particionar os dados por Ano/Mês/Dia conforme a criação do Twitter. Incluir 2 colunas novas:\n",
    "\n",
    "Sentimento: indicando Positivo quando encontrar algum símbolo como :D ou :) ou :] etc; Indicando Negativo quando encontrar algum\n",
    "símbolo como :( ou :[ ou :{ etc. Indicando Neutro, quando o tweet não tiver nenhum dos símbolos analisados. Se um tweet tiver vários\n",
    "símbolos apenas o primeiro encontrado deve ser utilizado\n",
    "\n",
    "Símbolo: Nesta coluna você deve adicionar o símbolo encontrado no tweet. Se um tweet tiver vários símbolos apenas o primeiro\n",
    "encontrado deve ser utilizado\n",
    "\n",
    "Vamos fazer o código Spark criado executar via EMR e Glue com a finalidade de comparação das soluções."
   ]
  },
  {
   "cell_type": "code",
   "execution_count": 1,
   "metadata": {},
   "outputs": [
    {
     "ename": "ModuleNotFoundError",
     "evalue": "No module named 'pyspark'",
     "output_type": "error",
     "traceback": [
      "\u001b[1;31m---------------------------------------------------------------------------\u001b[0m",
      "\u001b[1;31mModuleNotFoundError\u001b[0m                       Traceback (most recent call last)",
      "Cell \u001b[1;32mIn [1], line 1\u001b[0m\n\u001b[1;32m----> 1\u001b[0m \u001b[39mfrom\u001b[39;00m \u001b[39mpyspark\u001b[39;00m \u001b[39mimport\u001b[39;00m SparkContext, SQLContext\n\u001b[0;32m      2\u001b[0m \u001b[39mfrom\u001b[39;00m \u001b[39mpyspark\u001b[39;00m\u001b[39m.\u001b[39;00m\u001b[39msql\u001b[39;00m \u001b[39mimport\u001b[39;00m SparkSession\n\u001b[0;32m      3\u001b[0m \u001b[39mfrom\u001b[39;00m \u001b[39mpyspark\u001b[39;00m\u001b[39m.\u001b[39;00m\u001b[39msql\u001b[39;00m\u001b[39m.\u001b[39;00m\u001b[39mfunctions\u001b[39;00m \u001b[39mimport\u001b[39;00m \u001b[39m*\u001b[39m\n",
      "\u001b[1;31mModuleNotFoundError\u001b[0m: No module named 'pyspark'"
     ]
    }
   ],
   "source": [
    "from pyspark import SparkContext, SQLContext\n",
    "from pyspark.sql import SparkSession\n",
    "from pyspark.sql.functions import *\n",
    "from pyspark.sql.types import *\n",
    "import os\n",
    "\n",
    "caminho = os.getcwd()\n",
    "\n",
    "spark = SparkSession.builder.appName(\"Desafio_XPTO\").getOrCreate()"
   ]
  },
  {
   "cell_type": "code",
   "execution_count": null,
   "metadata": {},
   "outputs": [],
   "source": [
    "df = spark.read.option(\"delimiter\", \";\").csv(caminho + '/output_twitter.csv', header=True, inferSchema=True)\n",
    "\n",
    "#df.show(5, truncate=False)\n"
   ]
  },
  {
   "cell_type": "code",
   "execution_count": null,
   "metadata": {},
   "outputs": [],
   "source": [
    "emocaopos = [\":D\",\":)\",\":]\",\":-)\",\":P\",\":p\",\":v\",\": )\"]\n",
    "emocaoneg = [\":(\",\":[\",\":{\"]\n",
    "\n",
    "todas_emocoes = [':D', ':)', ':]', ':-)', ':P', ':p', ':v', ': )',':(', ':[', ':{']"
   ]
  },
  {
   "cell_type": "code",
   "execution_count": null,
   "metadata": {},
   "outputs": [],
   "source": [
    "df_emocao = df.withColumn(\":D\", locate(\":D\", col(\"tweet_text\")))\\\n",
    "                .withColumn(\":)\", locate(\":)\", col(\"tweet_text\")))\\\n",
    "                    .withColumn(\":]\", locate(\":]\", col(\"tweet_text\")))\\\n",
    "                        .withColumn(\":-)\", locate(\":-)\", col(\"tweet_text\")))\\\n",
    "                            .withColumn(\":P\", locate(\":P\", col(\"tweet_text\")))\\\n",
    "                                .withColumn(\":p\", locate(\":p\", col(\"tweet_text\")))\\\n",
    "                                    .withColumn(\":v\", locate(\":v\", col(\"tweet_text\")))\\\n",
    "                                        .withColumn(\": )\", locate(\": )\", col(\"tweet_text\")))\\\n",
    "                                            .withColumn(\":(\", locate(\":(\", col(\"tweet_text\")))\\\n",
    "                                                .withColumn(\":[\", locate(\":[\", col(\"tweet_text\")))\\\n",
    "                                                    .withColumn(\":{\", locate(\":{\", col(\"tweet_text\")))\n",
    "\n",
    "df_emocao.show()"
   ]
  },
  {
   "cell_type": "code",
   "execution_count": null,
   "metadata": {},
   "outputs": [],
   "source": [
    "df_simbolos = df_emocao.withColumn('simbolo', least(*[(when(col(c).isNull() | (col(c) == 0), \"None\").otherwise(c))for c in df_emocao.columns[3:]]))\n",
    "\n",
    "df_simbolos = df_simbolos.drop(*todas_emocoes)\n",
    "\n",
    "df_completa = df_simbolos.withColumn('Sentimento', when(df_simbolos.simbolo.isin(emocaopos), 'positivo')\\\n",
    "                                                .when(df_simbolos.simbolo.isin(emocaoneg), 'negativo')\\\n",
    "                                                    .otherwise(\"neutra\"))\n",
    "\n",
    "df_completa.show(truncate=True)\n"
   ]
  },
  {
   "cell_type": "code",
   "execution_count": null,
   "metadata": {},
   "outputs": [],
   "source": [
    "df_out = df_completa.withColumn('Ano', date_format(df_completa.tweet_date, \"yyyy\"))\\\n",
    "                        .withColumn('Mes', date_format(df_completa.tweet_date, \"MM\"))\\\n",
    "                            .withColumn('Dia', date_format(df_completa.tweet_date, \"dd\"))\n",
    "                            \n",
    "df_out = df_out.filter(df_out.Ano >= 2018)\n",
    "\n",
    "df_out.show()\n",
    "\n",
    "df_out.write.partitionBy(\"Ano\",\"Mes\",\"Dia\").parquet(\"./Desafio_XPTO_Out\", mode = 'overwrite')\n",
    "print(\"Done!!\")"
   ]
  }
 ],
 "metadata": {
  "kernelspec": {
   "display_name": "Python 3",
   "language": "python",
   "name": "python3"
  },
  "language_info": {
   "codemirror_mode": {
    "name": "ipython",
    "version": 3
   },
   "file_extension": ".py",
   "mimetype": "text/x-python",
   "name": "python",
   "nbconvert_exporter": "python",
   "pygments_lexer": "ipython3",
   "version": "3.11.0 (main, Oct 24 2022, 18:26:48) [MSC v.1933 64 bit (AMD64)]"
  },
  "orig_nbformat": 4,
  "vscode": {
   "interpreter": {
    "hash": "eec9e87fa3f56d6748f1cf15fde3e72a542f09d7e1f50d0252793d1992f71f7e"
   }
  }
 },
 "nbformat": 4,
 "nbformat_minor": 2
}
