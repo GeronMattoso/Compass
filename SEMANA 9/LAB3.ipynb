{
 "cells": [
  {
   "cell_type": "markdown",
   "metadata": {},
   "source": [
    "<head>\n",
    "    <h1>Semana 9 - LAB 3<h1>\n",
    "<head>\n",
    "    <div>\n",
    "    <img align=\"left\" alt=\"Geron-Mattoso\" height=\"100\" width=\"150\" \n",
    "src=\"https://spark.apache.org/images/spark-logo-rev.svg\">\n",
    "    </div>"
   ]
  },
  {
   "cell_type": "code",
   "execution_count": 27,
   "metadata": {},
   "outputs": [
    {
     "name": "stdout",
     "output_type": "stream",
     "text": [
      "/home/geron/Compass\n"
     ]
    }
   ],
   "source": [
    "import os\n",
    "caminho = os.getcwd()\n",
    "print(caminho)"
   ]
  },
  {
   "cell_type": "code",
   "execution_count": 28,
   "metadata": {},
   "outputs": [
    {
     "name": "stdout",
     "output_type": "stream",
     "text": [
      "/home/geron/Compass\n"
     ]
    }
   ],
   "source": [
    "from pyspark import SparkContext, SQLContext\n",
    "from pyspark.sql import *\n",
    "from pyspark.sql.functions import *\n",
    "\n",
    "import os\n",
    "caminho = os.getcwd()\n",
    "print(caminho)\n",
    "\n",
    "\n",
    "spark = SparkSession.builder.appName(\"Exercicios\").getOrCreate()\n",
    "\n",
    "sqlContext = SQLContext(spark.sparkContext)\n",
    "\n"
   ]
  },
  {
   "cell_type": "code",
   "execution_count": 29,
   "metadata": {},
   "outputs": [
    {
     "name": "stderr",
     "output_type": "stream",
     "text": [
      "                                                                                \r"
     ]
    }
   ],
   "source": [
    "df_nomes = spark.read.csv(caminho + '/nomes.csv', header = True, inferSchema=True)"
   ]
  },
  {
   "cell_type": "code",
   "execution_count": 30,
   "metadata": {},
   "outputs": [
    {
     "data": {
      "text/plain": [
       "pyspark.sql.dataframe.DataFrame"
      ]
     },
     "execution_count": 30,
     "metadata": {},
     "output_type": "execute_result"
    }
   ],
   "source": [
    "type(df_nomes)"
   ]
  },
  {
   "cell_type": "code",
   "execution_count": 31,
   "metadata": {},
   "outputs": [
    {
     "name": "stdout",
     "output_type": "stream",
     "text": [
      "+--------+----+-----+----+\n",
      "|    nome|sexo|total| ano|\n",
      "+--------+----+-----+----+\n",
      "|Jennifer|   F|54336|1983|\n",
      "| Jessica|   F|45278|1983|\n",
      "|  Amanda|   F|33752|1983|\n",
      "|  Ashley|   F|33292|1983|\n",
      "|   Sarah|   F|27228|1983|\n",
      "+--------+----+-----+----+\n",
      "only showing top 5 rows\n",
      "\n"
     ]
    }
   ],
   "source": [
    "df_nomes.show(5)"
   ]
  },
  {
   "cell_type": "code",
   "execution_count": 32,
   "metadata": {},
   "outputs": [
    {
     "name": "stdout",
     "output_type": "stream",
     "text": [
      "root\n",
      " |-- nome: string (nullable = true)\n",
      " |-- sexo: string (nullable = true)\n",
      " |-- total: integer (nullable = true)\n",
      " |-- ano: integer (nullable = true)\n",
      "\n"
     ]
    }
   ],
   "source": [
    "df_nomes.printSchema()"
   ]
  },
  {
   "cell_type": "code",
   "execution_count": 33,
   "metadata": {},
   "outputs": [
    {
     "name": "stdout",
     "output_type": "stream",
     "text": [
      "+--------+----+\n",
      "|    nome|sexo|\n",
      "+--------+----+\n",
      "|Jennifer|   F|\n",
      "| Jessica|   F|\n",
      "|  Amanda|   F|\n",
      "|  Ashley|   F|\n",
      "|   Sarah|   F|\n",
      "+--------+----+\n",
      "only showing top 5 rows\n",
      "\n"
     ]
    }
   ],
   "source": [
    "df_nomes.select(df_nomes.nome, df_nomes.sexo).show(5)"
   ]
  },
  {
   "cell_type": "code",
   "execution_count": 34,
   "metadata": {},
   "outputs": [
    {
     "name": "stdout",
     "output_type": "stream",
     "text": [
      "+--------+----+------------+------------+\n",
      "|    nome| ano|(ano > 1950)|(ano + 1000)|\n",
      "+--------+----+------------+------------+\n",
      "|Jennifer|1983|        true|        2983|\n",
      "| Jessica|1983|        true|        2983|\n",
      "|  Amanda|1983|        true|        2983|\n",
      "|  Ashley|1983|        true|        2983|\n",
      "|   Sarah|1983|        true|        2983|\n",
      "+--------+----+------------+------------+\n",
      "only showing top 5 rows\n",
      "\n"
     ]
    }
   ],
   "source": [
    "df_select = df_nomes.select(df_nomes.nome,\n",
    "                            df_nomes.ano,\n",
    "                            df_nomes.ano > 1950,\n",
    "                            df_nomes.ano + 1000)\n",
    "df_select.show(5)"
   ]
  },
  {
   "cell_type": "code",
   "execution_count": 35,
   "metadata": {},
   "outputs": [],
   "source": [
    "df_nomes.registerTempTable(\"pessoas\")"
   ]
  },
  {
   "cell_type": "code",
   "execution_count": 36,
   "metadata": {},
   "outputs": [
    {
     "name": "stdout",
     "output_type": "stream",
     "text": [
      "+--------+\n",
      "|count(1)|\n",
      "+--------+\n",
      "| 1825433|\n",
      "+--------+\n",
      "\n"
     ]
    }
   ],
   "source": [
    "sqlContext.sql(\"select count (*) from pessoas\").show()"
   ]
  },
  {
   "cell_type": "code",
   "execution_count": 37,
   "metadata": {},
   "outputs": [
    {
     "name": "stdout",
     "output_type": "stream",
     "text": [
      "+--------+----+------+\n",
      "|    nome| ano|futuro|\n",
      "+--------+----+------+\n",
      "|Jennifer|1983|  2983|\n",
      "| Jessica|1983|  2983|\n",
      "|  Amanda|1983|  2983|\n",
      "|  Ashley|1983|  2983|\n",
      "|   Sarah|1983|  2983|\n",
      "+--------+----+------+\n",
      "only showing top 5 rows\n",
      "\n"
     ]
    }
   ],
   "source": [
    "sqlContext.sql(\"select nome, ano, ano+1000 as futuro FROM pessoas\").show(5)"
   ]
  },
  {
   "cell_type": "code",
   "execution_count": 38,
   "metadata": {},
   "outputs": [
    {
     "name": "stdout",
     "output_type": "stream",
     "text": [
      "+--------+----+\n",
      "|    nome| ano|\n",
      "+--------+----+\n",
      "|  Ashley|1991|\n",
      "| Jessica|1991|\n",
      "|Brittany|1991|\n",
      "|  Amanda|1991|\n",
      "|Samantha|1991|\n",
      "+--------+----+\n",
      "only showing top 5 rows\n",
      "\n"
     ]
    }
   ],
   "source": [
    "df_nomes.filter(df_nomes.ano > 1990).select(df_nomes.nome, df_nomes.ano).show(5)"
   ]
  },
  {
   "cell_type": "code",
   "execution_count": 39,
   "metadata": {},
   "outputs": [
    {
     "name": "stderr",
     "output_type": "stream",
     "text": [
      "                                                                                \r"
     ]
    },
    {
     "name": "stdout",
     "output_type": "stream",
     "text": [
      "+-------+----+\n",
      "|   nome| ano|\n",
      "+-------+----+\n",
      "| Aaisha|1991|\n",
      "| Aakash|1991|\n",
      "|Aaliyah|1991|\n",
      "| Aamber|1991|\n",
      "|Aaminah|1991|\n",
      "+-------+----+\n",
      "only showing top 5 rows\n",
      "\n",
      "+---------+----+\n",
      "|     nome| ano|\n",
      "+---------+----+\n",
      "|    Aaban|2014|\n",
      "|    Aabha|2014|\n",
      "|Aabriella|2014|\n",
      "|    Aadam|2014|\n",
      "|    Aadan|2014|\n",
      "+---------+----+\n",
      "only showing top 5 rows\n",
      "\n"
     ]
    },
    {
     "name": "stderr",
     "output_type": "stream",
     "text": [
      "                                                                                \r"
     ]
    }
   ],
   "source": [
    "df_nomes.filter(df_nomes.ano > 1990)\\\n",
    "    .select(df_nomes.nome, df_nomes.ano)\\\n",
    "        .orderBy(df_nomes.ano, df_nomes.nome).show(5)\n",
    "\n",
    "df_nomes.filter(df_nomes.ano > 1990)\\\n",
    "    .select(df_nomes.nome, df_nomes.ano)\\\n",
    "        .orderBy(df_nomes.ano.desc(), df_nomes.nome).show(5)\n",
    "\n"
   ]
  },
  {
   "cell_type": "code",
   "execution_count": 40,
   "metadata": {},
   "outputs": [
    {
     "name": "stdout",
     "output_type": "stream",
     "text": [
      "+--------+----+-------+\n",
      "|    nome| ano|recente|\n",
      "+--------+----+-------+\n",
      "|Jennifer|1983|  false|\n",
      "| Jessica|1983|  false|\n",
      "|  Amanda|1983|  false|\n",
      "|  Ashley|1983|  false|\n",
      "|   Sarah|1983|  false|\n",
      "+--------+----+-------+\n",
      "only showing top 5 rows\n",
      "\n"
     ]
    }
   ],
   "source": [
    "df_nomes.select(\"nome\", \"ano\", (df_nomes.ano > 2000).alias('recente')).show(5)"
   ]
  },
  {
   "cell_type": "code",
   "execution_count": 41,
   "metadata": {},
   "outputs": [
    {
     "name": "stdout",
     "output_type": "stream",
     "text": [
      "+--------+----+-------+\n",
      "|    nome| ano|recente|\n",
      "+--------+----+-------+\n",
      "|Jennifer|1983|  false|\n",
      "| Jessica|1983|  false|\n",
      "|  Amanda|1983|  false|\n",
      "|  Ashley|1983|  false|\n",
      "|   Sarah|1983|  false|\n",
      "+--------+----+-------+\n",
      "only showing top 5 rows\n",
      "\n"
     ]
    }
   ],
   "source": [
    "spark.sql(\"SELECT nome, ano, ano > 2000 as recente FROM pessoas\").show(5)"
   ]
  },
  {
   "cell_type": "code",
   "execution_count": 42,
   "metadata": {},
   "outputs": [
    {
     "name": "stdout",
     "output_type": "stream",
     "text": [
      "+----+-----+\n",
      "| ano|count|\n",
      "+----+-----+\n",
      "|1990|24713|\n",
      "|2003|31173|\n",
      "|1988|22358|\n",
      "|1997|26965|\n",
      "|1994|25997|\n",
      "+----+-----+\n",
      "only showing top 5 rows\n",
      "\n"
     ]
    },
    {
     "name": "stderr",
     "output_type": "stream",
     "text": [
      "                                                                                \r"
     ]
    }
   ],
   "source": [
    "df_nomes.groupBy('ano').count().show(5)"
   ]
  },
  {
   "cell_type": "code",
   "execution_count": 43,
   "metadata": {},
   "outputs": [
    {
     "name": "stdout",
     "output_type": "stream",
     "text": [
      "+----+-------+\n",
      "|sexo|  count|\n",
      "+----+-------+\n",
      "|   F|1081683|\n",
      "|   M| 743750|\n",
      "+----+-------+\n",
      "\n"
     ]
    },
    {
     "name": "stderr",
     "output_type": "stream",
     "text": [
      "                                                                                \r"
     ]
    }
   ],
   "source": [
    "df_nomes.groupBy('sexo').count().show(5)"
   ]
  },
  {
   "cell_type": "markdown",
   "metadata": {},
   "source": [
    "#### EXERCÍCIO 1: Faça o agrupamento sexo e realize a contagem. Responda as seguintes perguntas:\n",
    "\n",
    "•\tQual o sexo que mais aparece?\n",
    "\n",
    "•\tQual foi a diferença entre o sexo Masculino (F) e do Feminino (F)?\n"
   ]
  },
  {
   "cell_type": "code",
   "execution_count": 44,
   "metadata": {},
   "outputs": [
    {
     "name": "stderr",
     "output_type": "stream",
     "text": [
      "                                                                                \r"
     ]
    },
    {
     "name": "stdout",
     "output_type": "stream",
     "text": [
      "+----+-------+\n",
      "|sexo|  count|\n",
      "+----+-------+\n",
      "|   F|1081683|\n",
      "+----+-------+\n",
      "only showing top 1 row\n",
      "\n"
     ]
    },
    {
     "name": "stderr",
     "output_type": "stream",
     "text": [
      "[Stage 78:==============>                                           (1 + 3) / 4]\r"
     ]
    },
    {
     "name": "stdout",
     "output_type": "stream",
     "text": [
      "+---------+\n",
      "|diferenca|\n",
      "+---------+\n",
      "|   337933|\n",
      "+---------+\n",
      "\n"
     ]
    },
    {
     "name": "stderr",
     "output_type": "stream",
     "text": [
      "                                                                                \r"
     ]
    }
   ],
   "source": [
    "'''Qual sexo mais aparece'''\n",
    "df_quant = spark.sql(\"select sexo, count(sexo) as count from pessoas group by sexo\")\n",
    "\n",
    "df_quant.show(1)\n",
    "\n",
    "'''qual a diferença entrer sexos'''\n",
    "\n",
    "df_quant.createOrReplaceTempView(\"quant\")\n",
    "\n",
    "spark.sql(\"SELECT MAX(count)-MIN(count) AS diferenca FROM quant\").show()\n"
   ]
  },
  {
   "cell_type": "markdown",
   "metadata": {},
   "source": [
    "##### EXERCÍCIO 2:  Crie uma nova coluna no DataFrame que contenha apenas números. Nesta coluna chamada RANKING deverá ter o número que representa a colocação do nome na lista, sendo o número 1 o nome mais usado em todos os anos."
   ]
  },
  {
   "cell_type": "code",
   "execution_count": 45,
   "metadata": {},
   "outputs": [
    {
     "name": "stderr",
     "output_type": "stream",
     "text": [
      "                                                                                \r"
     ]
    },
    {
     "name": "stdout",
     "output_type": "stream",
     "text": [
      "+-----------+----------+-------+\n",
      "|       nome|sum(total)|Ranking|\n",
      "+-----------+----------+-------+\n",
      "|      James|   5129096|      1|\n",
      "|       John|   5106590|      2|\n",
      "|     Robert|   4816785|      3|\n",
      "|    Michael|   4330805|      4|\n",
      "|       Mary|   4130441|      5|\n",
      "|    William|   4071368|      6|\n",
      "|      David|   3590557|      7|\n",
      "|     Joseph|   2580687|      8|\n",
      "|    Richard|   2564867|      9|\n",
      "|    Charles|   2376700|     10|\n",
      "|     Thomas|   2291517|     11|\n",
      "|Christopher|   2004177|     12|\n",
      "|     Daniel|   1876880|     13|\n",
      "|  Elizabeth|   1606282|     14|\n",
      "|   Patricia|   1575529|     15|\n",
      "|    Matthew|   1558671|     16|\n",
      "|   Jennifer|   1467573|     17|\n",
      "|     George|   1464430|     18|\n",
      "|      Linda|   1454599|     19|\n",
      "|    Barbara|   1437083|     20|\n",
      "+-----------+----------+-------+\n",
      "only showing top 20 rows\n",
      "\n"
     ]
    }
   ],
   "source": [
    "''''\n",
    "agrupar nomes por quantidade\n",
    "Criar coluna com id e ordenar\n",
    "'''\n",
    "df_ranking = df_nomes.groupBy(\"nome\")\\\n",
    "    .sum(\"total\").orderBy(col(\"sum(total)\").desc())\\\n",
    "        .withColumn(\"Ranking\", monotonically_increasing_id()+1).show()\n"
   ]
  },
  {
   "cell_type": "markdown",
   "metadata": {},
   "source": [
    "EXERCÍCIO 3:  Crie 03 novas colunas no DataFrame que contenha apenas Sim e Não. Cada coluna deve-se chamar DECADA_80, DECADA_90, DECADA_00 e o conteúdo deve ser SIM ou NÃO  de acordo com o ano definido na tabela."
   ]
  },
  {
   "cell_type": "code",
   "execution_count": 46,
   "metadata": {},
   "outputs": [
    {
     "name": "stdout",
     "output_type": "stream",
     "text": [
      "+--------+----+-----+----+---------+---------+---------+\n",
      "|    nome|sexo|total| ano|DECADA_80|DECADA_90|DECADA_00|\n",
      "+--------+----+-----+----+---------+---------+---------+\n",
      "|Jennifer|   F|54336|1983|      Sim|      Nao|      Nao|\n",
      "| Jessica|   F|45278|1983|      Sim|      Nao|      Nao|\n",
      "|  Amanda|   F|33752|1983|      Sim|      Nao|      Nao|\n",
      "|  Ashley|   F|33292|1983|      Sim|      Nao|      Nao|\n",
      "|   Sarah|   F|27228|1983|      Sim|      Nao|      Nao|\n",
      "+--------+----+-----+----+---------+---------+---------+\n",
      "only showing top 5 rows\n",
      "\n"
     ]
    }
   ],
   "source": [
    "#https://sparkbyexamples.com/pyspark/pyspark-when-otherwise/\n",
    "\n",
    "df_decadaSN = df_nomes\\\n",
    "    .withColumn('DECADA_80', when((df_nomes.ano >= 1980), 'Sim').when ((df_nomes.ano < 1990), 'Nao').otherwise(\"df_nomes.ano\"))\\\n",
    "        .withColumn('DECADA_90', when((df_nomes.ano >= 1990), 'Sim').when ((df_nomes.ano < 2000), 'Nao').otherwise(\"df_nomes.ano\"))\\\n",
    "            .withColumn('DECADA_00', when((df_nomes.ano >= 2000), 'Sim').when((df_nomes.ano < 2010), 'Nao').otherwise(\"df_nomes.ano\"))\\\n",
    "\n",
    "df_decadaSN.show(5)"
   ]
  },
  {
   "cell_type": "markdown",
   "metadata": {},
   "source": [
    "EXERCÍCIO 4:  Remova do Dataframe a coluna DECADA_00 e mostrar o novo Dataframe."
   ]
  },
  {
   "cell_type": "code",
   "execution_count": 47,
   "metadata": {},
   "outputs": [
    {
     "name": "stdout",
     "output_type": "stream",
     "text": [
      "+--------+----+-----+----+---------+---------+\n",
      "|    nome|sexo|total| ano|DECADA_80|DECADA_90|\n",
      "+--------+----+-----+----+---------+---------+\n",
      "|Jennifer|   F|54336|1983|      Sim|      Nao|\n",
      "| Jessica|   F|45278|1983|      Sim|      Nao|\n",
      "|  Amanda|   F|33752|1983|      Sim|      Nao|\n",
      "|  Ashley|   F|33292|1983|      Sim|      Nao|\n",
      "|   Sarah|   F|27228|1983|      Sim|      Nao|\n",
      "+--------+----+-----+----+---------+---------+\n",
      "only showing top 5 rows\n",
      "\n"
     ]
    }
   ],
   "source": [
    "df_decadaremoved00 = df_decadaSN.drop('DECADA_00')\n",
    "\n",
    "df_decadaremoved00.show(5)"
   ]
  },
  {
   "cell_type": "markdown",
   "metadata": {},
   "source": [
    "EXERCÍCIO 5: Gerar dois arquivos CSV. O primeiro com os nomes do sexo masculino nascidos na década de 80. O segundo com os nomes do sexo feminino nascidos na década de 80."
   ]
  },
  {
   "cell_type": "code",
   "execution_count": 48,
   "metadata": {},
   "outputs": [
    {
     "name": "stderr",
     "output_type": "stream",
     "text": [
      "                                                                                \r"
     ]
    }
   ],
   "source": [
    "\n",
    "df_decadaremoved00.filter((df_decadaremoved00.DECADA_80 == 'Sim') & (df_decadaremoved00.sexo == 'M'))\\\n",
    "    .drop('DECADA_80','DECADA_90','ano', 'total', 'sexo')\\\n",
    "    .write.csv('./Masculino_DECADA_80', mode=\"overwrite\")\n",
    "\n",
    "df_decadaremoved00.filter((df_decadaremoved00.DECADA_80 == 'Sim') & (df_decadaremoved00.sexo == 'F'))\\\n",
    "    .drop('DECADA_80','DECADA_90','ano', 'total', 'sexo')\\\n",
    "    .write.csv('./Feminino_DECADA_80', mode=\"overwrite\")"
   ]
  }
 ],
 "metadata": {
  "kernelspec": {
   "display_name": "Python 3.9.4 64-bit",
   "language": "python",
   "name": "python3"
  },
  "language_info": {
   "codemirror_mode": {
    "name": "ipython",
    "version": 3
   },
   "file_extension": ".py",
   "mimetype": "text/x-python",
   "name": "python",
   "nbconvert_exporter": "python",
   "pygments_lexer": "ipython3",
   "version": "3.9.4 (tags/v3.9.4:1f2e308, Apr  6 2021, 13:40:21) [MSC v.1928 64 bit (AMD64)]"
  },
  "orig_nbformat": 4,
  "vscode": {
   "interpreter": {
    "hash": "2deb7cf860cc7fd3a77031a4d28667aa31f29c46dfc55481c8bdaeda7d90f5bb"
   }
  }
 },
 "nbformat": 4,
 "nbformat_minor": 2
}
