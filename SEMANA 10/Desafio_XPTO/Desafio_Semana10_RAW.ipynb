{
 "cells": [
  {
   "cell_type": "code",
   "execution_count": null,
   "metadata": {},
   "outputs": [],
   "source": [
    "import tweepy\n",
    "import time\n",
    "import datetime\n",
    "from datetime import *\n",
    "import boto3\n",
    "import json\n",
    "\n",
    "api_key = ''\n",
    "api_secret = ''\n",
    "bearer_token = r\"\"\n",
    "access_token = ''\n",
    "access_token_secret =''"
   ]
  },
  {
   "cell_type": "code",
   "execution_count": null,
   "metadata": {},
   "outputs": [],
   "source": [
    "client = tweepy.Client(bearer_token, api_key, api_secret, access_token, access_token_secret)\n",
    "\n",
    "auth = tweepy.OAuth1UserHandler(api_key, api_secret, access_token, access_token_secret)\n",
    "api = tweepy.API(auth)"
   ]
  },
  {
   "cell_type": "code",
   "execution_count": null,
   "metadata": {},
   "outputs": [],
   "source": [
    "def sendToS3(lista, dateList):\n",
    "    ACCESS_ID = ''\n",
    "    ACCESS_KEY = r''\n",
    "\n",
    "    s3 = boto3.client(\n",
    "        's3',\n",
    "        region_name='sa-east-1',\n",
    "        aws_access_key_id=ACCESS_ID,\n",
    "        aws_secret_access_key= ACCESS_KEY\n",
    "    )\n",
    "\n",
    "    arq_name = min(dateList)\n",
    "\n",
    "    boto3.client('s3').put_object(Key= 'nov-22/'+str(arq_name)+'.json', Body=json.dumps(lista), Bucket = 'geron-raw')\n"
   ]
  },
  {
   "cell_type": "code",
   "execution_count": null,
   "metadata": {},
   "outputs": [],
   "source": [
    "\n",
    "class MyStream(tweepy.StreamingClient):\n",
    "    \n",
    "    tweets = []\n",
    "    datas = []\n",
    "    \n",
    "    def on_connect(self):\n",
    "        print(\"conected\")\n",
    "\n",
    "\n",
    "    def on_tweet(self, tweet):\n",
    "        if tweet.referenced_tweets == None:\n",
    "\n",
    "            self.datas.append(datetime.strftime(datetime.strptime(str(tweet.created_at), \"%Y-%m-%d %H:%M:%S%z\"), \"%Y-%m-%d %H %M %S\"))\n",
    "\n",
    "            self.tweets.append({\"id\" : tweet.id,\n",
    "                                \"tweet_text\" : tweet.text,\n",
    "                                \"tweet_date\" : datetime.strftime(datetime.strptime(str(tweet.created_at), \"%Y-%m-%d %H:%M:%S%z\"), \"%Y-%m-%d %H:%M:%S\")})\n",
    "\n",
    "        if len(self.tweets) == 100:\n",
    "            dados = self.tweets\n",
    "            dateList = self.datas\n",
    "            print(\"Create Json\")\n",
    "            sendToS3(dados,dateList)\n",
    "            self.datas = []\n",
    "            self.tweets = []"
   ]
  },
  {
   "cell_type": "code",
   "execution_count": null,
   "metadata": {},
   "outputs": [],
   "source": [
    "stream = MyStream(bearer_token=bearer_token)"
   ]
  },
  {
   "cell_type": "code",
   "execution_count": null,
   "metadata": {},
   "outputs": [],
   "source": [
    "search_terms = [\"Bolsonaro\", \"presidente do brasil\"]\n",
    "\n",
    "for term in search_terms:\n",
    "    stream.add_rules(tweepy.StreamRule(term))\n"
   ]
  },
  {
   "cell_type": "code",
   "execution_count": null,
   "metadata": {},
   "outputs": [],
   "source": [
    "stream.filter(tweet_fields=['referenced_tweets','created_at'])"
   ]
  }
 ],
 "metadata": {
  "kernelspec": {
   "display_name": "Python 3.9.4 64-bit",
   "language": "python",
   "name": "python3"
  },
  "language_info": {
   "codemirror_mode": {
    "name": "ipython",
    "version": 3
   },
   "file_extension": ".py",
   "mimetype": "text/x-python",
   "name": "python",
   "nbconvert_exporter": "python",
   "pygments_lexer": "ipython3",
   "version": "3.9.4"
  },
  "orig_nbformat": 4,
  "vscode": {
   "interpreter": {
    "hash": "2deb7cf860cc7fd3a77031a4d28667aa31f29c46dfc55481c8bdaeda7d90f5bb"
   }
  }
 },
 "nbformat": 4,
 "nbformat_minor": 2
}
