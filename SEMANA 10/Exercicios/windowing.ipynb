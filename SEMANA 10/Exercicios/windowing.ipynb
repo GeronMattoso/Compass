{
 "cells": [
  {
   "cell_type": "code",
   "execution_count": null,
   "metadata": {},
   "outputs": [],
   "source": [
    "from pyspark import SparkContext\n",
    "from pyspark.sql import SparkSession\n",
    "from pyspark.sql.functions import explode\n",
    "from pyspark.sql.functions import split\n",
    "\n",
    "#New iports for windowing\n",
    "from pyspark.sql.functions import window\n",
    "\n",
    "\n",
    "sc = SparkContext()\n",
    "\n",
    "sc.setLogLevel(\"ERROR\")"
   ]
  },
  {
   "cell_type": "code",
   "execution_count": null,
   "metadata": {},
   "outputs": [],
   "source": [
    "spark = SparkSession\\\n",
    "    .builder\\\n",
    "        .appName(\"ContarPalavarasEstruturado\")\\\n",
    "            .getOrCreate()"
   ]
  },
  {
   "cell_type": "code",
   "execution_count": null,
   "metadata": {},
   "outputs": [],
   "source": [
    "linhas = spark.readStream\\\n",
    "    .format(\"socket\")\\\n",
    "        .option(\"host\", \"localhost\")\\\n",
    "            .option(\"port\", 3456)\\\n",
    "                .option(\"includeTimestamp\", \"true\")\\\n",
    "                .load()\n"
   ]
  },
  {
   "cell_type": "code",
   "execution_count": null,
   "metadata": {},
   "outputs": [],
   "source": [
    "palavras = linhas.select(\n",
    "    explode(split(linhas.value, \" \")).alias(\"palavra\"),\n",
    "    linhas.timestamp\n",
    ")"
   ]
  },
  {
   "cell_type": "code",
   "execution_count": null,
   "metadata": {},
   "outputs": [],
   "source": [
    "contagem = palavras.groupBy(\n",
    "    window(palavras.timestamp, \"10 minutes\", \"5 minutes\"),\n",
    "    palavras.palavra\n",
    ").count().orderBy('window')\n"
   ]
  },
  {
   "cell_type": "code",
   "execution_count": null,
   "metadata": {},
   "outputs": [],
   "source": [
    "consulta = contagem.writeStream\\\n",
    "    .outputMode(\"complete\")\\\n",
    "        .format(\"console\")\\\n",
    "            .start()"
   ]
  },
  {
   "cell_type": "code",
   "execution_count": null,
   "metadata": {},
   "outputs": [],
   "source": [
    "consulta.awaitTermination().option(\"truncate\", \"false\")"
   ]
  }
 ],
 "metadata": {
  "kernelspec": {
   "display_name": "Python 3.8.10 ('Compass-_AkEn2Ee')",
   "language": "python",
   "name": "python3"
  },
  "language_info": {
   "codemirror_mode": {
    "name": "ipython",
    "version": 3
   },
   "file_extension": ".py",
   "mimetype": "text/x-python",
   "name": "python",
   "nbconvert_exporter": "python",
   "pygments_lexer": "ipython3",
   "version": "3.8.10"
  },
  "orig_nbformat": 4,
  "vscode": {
   "interpreter": {
    "hash": "d753330caeec7d6af2aab1f01dc570d971d402b6b5a8d79215eecc968f98cffa"
   }
  }
 },
 "nbformat": 4,
 "nbformat_minor": 2
}
