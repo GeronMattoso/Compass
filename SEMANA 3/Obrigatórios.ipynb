{
 "cells": [
  {
   "cell_type": "markdown",
   "id": "5701380a",
   "metadata": {},
   "source": [
    "<head>\n",
    "    <h1>Obrigatórios Python<h1>\n",
    "<head>\n",
    "    <div>\n",
    "    <img align=\"right\" alt=\"Geron-Python\" height=\"40\" width=\"50\" \n",
    "src=\"https://cdn.jsdelivr.net/gh/devicons/devicon/icons/python/python-original.svg\">\n",
    "    </div>"
   ]
  },
  {
   "cell_type": "markdown",
   "id": "ddf0c3cb",
   "metadata": {},
   "source": [
    "## Parte 1"
   ]
  },
  {
   "cell_type": "markdown",
   "id": "41abe8cc",
   "metadata": {},
   "source": [
    "### Exercício 1\n",
    "\n",
    "Escreva um código Python que lê do teclado o nome e a idade de um usuário e imprime o ano em que o\n",
    "usuário completará 100 anos.\n",
    "\n",
    "Dica: você pode ler strings digitadas no teclado utilizando a função builtin input('mensagem'). Lembre-se de\n",
    "converter números para seu respectivo tipo (int ou float) antes fazer operações aritméticas."
   ]
  },
  {
   "cell_type": "code",
   "execution_count": null,
   "id": "ce976e1a",
   "metadata": {},
   "outputs": [],
   "source": [
    "def yearTo100(name:str, age:int):\n",
    "    result = 2022 + (100 - age)\n",
    "    return result\n",
    "\n",
    "name  = str(input(\"Name:\"))\n",
    "age = int(input(\"Age:\"))\n",
    "\n",
    "print(\"100 years in: {} \" .format(yearTo100(name, age)))"
   ]
  },
  {
   "cell_type": "markdown",
   "id": "776b964e",
   "metadata": {},
   "source": [
    "### Exercício 2\n",
    "Escreva um código Python que lê do teclado um número digitado pelo usuário e imprime se ele par ou ímpar"
   ]
  },
  {
   "cell_type": "code",
   "execution_count": null,
   "id": "f45324c7",
   "metadata": {},
   "outputs": [],
   "source": [
    "def parImpar(num:int):\n",
    "    if num%2==0:\n",
    "        result = \"Par\"\n",
    "    else:\n",
    "        result = \"Impar\"\n",
    "    return result\n",
    "\n",
    "num = int(input(\"number:\"))\n",
    "\n",
    "print(parImpar(num))"
   ]
  },
  {
   "cell_type": "markdown",
   "id": "d303d966",
   "metadata": {},
   "source": [
    "### Exercício 3\n",
    "Escreva um código Python que imprime os números pares de 0 até 20 (incluso).\n",
    "Dica: olhe a documentação da função range(). Mais informações no link\n"
   ]
  },
  {
   "cell_type": "code",
   "execution_count": null,
   "id": "609a7494",
   "metadata": {},
   "outputs": [],
   "source": [
    "def evenOdd(num:int):\n",
    "    if (num%2==0):\n",
    "        return 1\n",
    "    else:\n",
    "        return 0\n",
    "\n",
    "for num in range(0, 21):\n",
    "    if(evenOdd(num)):\n",
    "        print(num)"
   ]
  },
  {
   "cell_type": "markdown",
   "id": "1e4bcd01",
   "metadata": {},
   "source": [
    "### Exercício 4\n",
    "Escreva um código Python que imprime todos os números primos de 0 até 100."
   ]
  },
  {
   "cell_type": "code",
   "execution_count": null,
   "id": "50d5f2c1",
   "metadata": {},
   "outputs": [],
   "source": [
    "def primo(num:int):\n",
    "    primos = []\n",
    "\n",
    "    for a in range(1, num + 1, 1):\n",
    "        if num%a==0:\n",
    "            primos.append(a)#counter\n",
    "\n",
    "    if len(primos)==2:\n",
    "        return 1\n",
    "    else:\n",
    "        return 0\n",
    "\n",
    "for num in range(0, 101, 1):\n",
    "    if(primo(num)):\n",
    "        print(num)"
   ]
  },
  {
   "cell_type": "markdown",
   "id": "7ba82fc9",
   "metadata": {},
   "source": [
    "### Exercício 5\n",
    "Escreva um código Python que lê do teclado um dia, um mês e um ano e imprime a data completa no\n",
    "formato a seguir:\n",
    "\n",
    "Exemplo: 22/10/2022"
   ]
  },
  {
   "cell_type": "code",
   "execution_count": null,
   "id": "ca513efb",
   "metadata": {},
   "outputs": [],
   "source": [
    "day = input('day:')\n",
    "month = input('month:')\n",
    "year = input('year:')\n",
    "\n",
    "print('{}/{}/{}' .format(day, month, year))"
   ]
  },
  {
   "cell_type": "markdown",
   "id": "85bb9a99",
   "metadata": {},
   "source": [
    "### -------------------------------------------------------------------------------------------"
   ]
  },
  {
   "cell_type": "markdown",
   "id": "1e9c0a12",
   "metadata": {},
   "source": [
    "## Parte 2"
   ]
  },
  {
   "cell_type": "markdown",
   "id": "08e81928",
   "metadata": {},
   "source": [
    "### Exercicío 1\n",
    "\n",
    "Dada duas listas como no exemplo abaixo:\n",
    "\n",
    " a = [1, 1, 2, 3, 5, 8, 13, 21, 34, 55, 89]\n",
    " b = [1, 2, 3, 4, 5, 6, 7, 8, 9, 10, 11, 12, 13]\n",
    " \n",
    "Escreve um programa que retorne o que as litas têm comum (sem repetições). O seu programa deve\n",
    "funcionar para listas de qualquer tamanho."
   ]
  },
  {
   "cell_type": "code",
   "execution_count": null,
   "id": "74dc4091",
   "metadata": {},
   "outputs": [],
   "source": [
    "a = [1, 1, 2, 3, 5, 8, 13, 21, 34, 55, 89]\n",
    "b = [1, 2, 3, 4, 5, 6, 7, 8, 9, 10, 11, 12, 13]\n",
    "\n",
    "print(list(set(a).intersection(set(b))))"
   ]
  },
  {
   "cell_type": "markdown",
   "id": "4760907e",
   "metadata": {},
   "source": [
    "### Exercício 2\n",
    "Dada a seguinte lista:\n",
    "a = [1, 4, 9, 16, 25, 36, 49, 64, 81, 100]\n",
    "\n",
    "Faça um programa que gere uma nova lista contendo apenas números ímpares."
   ]
  },
  {
   "cell_type": "code",
   "execution_count": null,
   "id": "9a87e600",
   "metadata": {},
   "outputs": [],
   "source": [
    "a = [1, 4, 9, 16, 25, 36, 49, 64, 81, 100]\n",
    "b = []\n",
    "\n",
    "for element in a:\n",
    "        if element%2 != 0:\n",
    "            b.append(element)\n",
    "        else:\n",
    "            pass\n",
    "print(b)"
   ]
  },
  {
   "cell_type": "markdown",
   "id": "6ec63efb",
   "metadata": {},
   "source": [
    "### Exercício 3\n",
    "Peça para o usuário digitar uma palavra pelo teclado e determina se a palavra digitada é ou não um\n",
    "palíndromo. Um palíndromo é uma palavra que permanece igual se lida de traz pra frente."
   ]
  },
  {
   "cell_type": "code",
   "execution_count": null,
   "id": "38b795c7",
   "metadata": {},
   "outputs": [],
   "source": [
    "\n",
    "def inverter(palavra:str):\n",
    "    return palavra[::-1]\n",
    "\n",
    "\n",
    "palavra = input(\"digite uma palavra\")\n",
    "palavraInv = inverter(palavra)\n",
    "\n",
    "if palavra == palavraInv:\n",
    "    print(\"A palavra {} é um palindromo seu inverso é {}\".format(palavra, palavraInv))\n",
    "else:\n",
    "    print(\"A palavra {} NÃO é um palindromo seu inverso é {}\".format(palavra, palavraInv))"
   ]
  },
  {
   "cell_type": "markdown",
   "id": "4769b9ee",
   "metadata": {},
   "source": [
    "### Exercício 4\n",
    "Dada as listas a seguir:\n",
    "primeirosNomes = ['Joao', 'Douglas', 'Lucas', 'José']\n",
    "\n",
    "sobreNomes = ['Soares', 'Souza', 'Silveira', 'Pedreira']\n",
    "\n",
    "idades = [19, 28, 25, 31]\n",
    "\n",
    "Faça um programa que imprima os dados na seguinte estrutura: \" - está com anos\""
   ]
  },
  {
   "cell_type": "code",
   "execution_count": null,
   "id": "a859d5fa",
   "metadata": {},
   "outputs": [],
   "source": [
    "primeirosNomes = ['Joao', 'Douglas', 'Lucas', 'José']\n",
    "sobreNomes = ['Soares', 'Souza', 'Silveira', 'Pedreira']\n",
    "idades = [19, 28, 25, 31]\n",
    "\n",
    "zipList = list(zip(primeirosNomes, sobreNomes, idades))\n",
    "\n",
    "\n",
    "for element in zipList:\n",
    "    print(\"{} {} está com {} anos\" .format(element[0], element[1], element[2]))"
   ]
  },
  {
   "cell_type": "markdown",
   "id": "ccf48e96",
   "metadata": {},
   "source": [
    "### Exercício 5\n",
    "Escreva uma função que recebe uma lista e retorna uma nova lista sem elementos duplicados. Utilize um\n",
    "exemplo para testar sua função."
   ]
  },
  {
   "cell_type": "code",
   "execution_count": null,
   "id": "7ee1eddb",
   "metadata": {},
   "outputs": [],
   "source": [
    "def noDup (lista):\n",
    "    return list(set(lista))\n",
    "\n",
    "##samples\n",
    "a = [1, 1, 2, 3, 5, 5, 8, 13, 21, 34, 55, 89, 89]\n",
    "b = [5,5,6,6,6,6,6,6,7,7,7,4,4]\n",
    "\n",
    "print(noDup(a))\n",
    "print(noDup(b))"
   ]
  },
  {
   "cell_type": "markdown",
   "id": "4469b869",
   "metadata": {},
   "source": [
    "### Exercício 6\n",
    "Escreva um programa que lê o conteúdo do arquivo texto arquivo_texto.txt e imprime o seu conteúdo.\n",
    "Dica: leia documentação da função open(...)"
   ]
  },
  {
   "cell_type": "code",
   "execution_count": null,
   "id": "e930c86b",
   "metadata": {},
   "outputs": [],
   "source": [
    "with open(\"texto.txt\", \"r\") as arquivo:\n",
    "    print(arquivo.read())"
   ]
  },
  {
   "cell_type": "markdown",
   "id": "bc523ad6",
   "metadata": {},
   "source": [
    "### Exercício 7\n",
    "Leia o arquivo person.json, faça o parsing e imprima seu conteúdo.\n",
    "Dica: leia a documentação do pacote json"
   ]
  },
  {
   "cell_type": "code",
   "execution_count": null,
   "id": "769fd286",
   "metadata": {},
   "outputs": [],
   "source": [
    "import json\n",
    "\n",
    "def parsingJason(arqJson):\n",
    "    with open(arqJson) as openedJson:\n",
    "        dataParser = json.load(openedJson)\n",
    "\n",
    "    return(dataParser) \n",
    "\n",
    "a = \"person.json\"\n",
    "\n",
    "print(parsingJason(a))"
   ]
  },
  {
   "cell_type": "markdown",
   "id": "abd54793",
   "metadata": {},
   "source": [
    "### Exercício 8\n",
    "Implemente a função my_map(list, f) que recebe uma lista como primeiro argumento e uma função como\n",
    "segundo argumento. Esta função aplica a função recebida para cada elemento da lista recebida retorna o\n",
    "resultado em uma nova lista.\n",
    "Teste sua função para saber se está ok."
   ]
  },
  {
   "cell_type": "code",
   "execution_count": null,
   "id": "c6bb0957",
   "metadata": {},
   "outputs": [],
   "source": [
    "def soma1(valor):\n",
    "    return valor + 1\n",
    "\n",
    "def quadrado(valor):\n",
    "    return valor*valor\n",
    "\n",
    "def Upper(frase):\n",
    "    return frase.upper()\n",
    "\n",
    "def my_map(list, f):\n",
    "    result = []\n",
    "    for element in list:\n",
    "        result.append(f(element))   \n",
    "    return result\n",
    "\n",
    "a = [1, 2, 3, 4, 5, 6, 7, 8, 9, 10, 11, 12, 13]\n",
    "b = [\"arroz\",\"feijao\",\"batata\"]\n",
    "\n",
    "print(my_map(a, soma1))\n",
    "\n",
    "print(my_map(a, quadrado))\n",
    "\n",
    "print(my_map(b, Upper))"
   ]
  },
  {
   "cell_type": "markdown",
   "id": "1395f128",
   "metadata": {},
   "source": [
    "### Exercício 9\n",
    "Escreva uma função que recebe um número variável de parâmetros não nomeados e um número variado de\n",
    "parâmetros nomeados e imprime o valor de cada parâmetro recebido."
   ]
  },
  {
   "cell_type": "code",
   "execution_count": null,
   "id": "c10a1ce7",
   "metadata": {},
   "outputs": [],
   "source": [
    "def my_function(*args, **kargs):\n",
    "    for item in args:\n",
    "        print (item)\n",
    "    for item in kargs:\n",
    "        print (item)\n",
    "\n",
    "my_function(1,2,3,55, \"batata\", nome=\"joao\", teste=\"false\")"
   ]
  },
  {
   "cell_type": "markdown",
   "id": "52988eb8",
   "metadata": {},
   "source": [
    "### Exercício 10\n",
    "Implemente a classe Lampada. A classe Lâmpada recebe um booleano no seu construtor, True se a lâmpada\n",
    "estiver ligada, False caso esteja desligada. A classe Lampada possuí os seguintes métodos:\n",
    "• liga(): muda o estado da lâmpada para ligada\n",
    "• desliga(): muda o estado da lâmpada para desligada\n",
    "• esta_ligada(): retorna verdadeiro se a lâmpada estiver ligada, falso caso contrário"
   ]
  },
  {
   "cell_type": "code",
   "execution_count": null,
   "id": "06f0212b",
   "metadata": {},
   "outputs": [],
   "source": [
    "class Lampada:\n",
    "    def __init__ (self):\n",
    "        self.ligada   = False\n",
    "        self.desligada= True\n",
    "        self.status   = False \n",
    "\n",
    "    def liga(self):\n",
    "        if (self.status == True):\n",
    "            print(\"A LAMPADA JA ESTA LIGADA!!\")\n",
    "        else:    \n",
    "            print(\"LIGANDO\")\n",
    "            self.ligada = True\n",
    "            self.desligada = False\n",
    "            self.estaLigada()\n",
    "\n",
    "    def desliga(self):\n",
    "        if (self.status == False):\n",
    "            print(\"A LAMPADA JA ESTA DESLIGADA!!\")\n",
    "        else:\n",
    "            print(\"DESLIGANDO\")\n",
    "            self.ligada = False\n",
    "            self.desligada = True\n",
    "            self.estaLigada()\n",
    "\n",
    "    def estaLigada(self):\n",
    "        if self.status == True:\n",
    "            self.status = False\n",
    "        else:\n",
    "            self.status = True\n",
    "\n",
    "\n",
    "\n",
    "lampada1 = Lampada()\n",
    "sair = 0\n",
    "while(sair != 1):\n",
    "    acao = int(input(\"\\nLIGAR 1 \\nDESLIGAR 2 \\nSAIR 3\\n\"))\n",
    "    \n",
    "    if acao == 1: \n",
    "        lampada1.liga()\n",
    "    elif acao == 2:\n",
    "        lampada1.desliga()\n",
    "    elif acao == 3:\n",
    "        print(\"saindo...\")\n",
    "        sair = 1\n",
    "    else:\n",
    "        print(\"opcao errada!!\")\n",
    "        pass"
   ]
  },
  {
   "cell_type": "markdown",
   "id": "c872baeb",
   "metadata": {},
   "source": [
    "### Exercício 11\n",
    "Escreva um programa que leia do teclado uma sequência de número separados por vírgula (e.g. 2,4,5,6,1,6) e\n",
    "imprime a soma de todos eles."
   ]
  },
  {
   "cell_type": "code",
   "execution_count": null,
   "id": "f81d1ee9",
   "metadata": {},
   "outputs": [],
   "source": [
    "def sum (lista):\n",
    "    total = 0\n",
    "    numeros = []\n",
    "\n",
    "    for element in lista:\n",
    "        if element != ',':\n",
    "            numeros.append(element)\n",
    "        else:\n",
    "            pass\n",
    "    \n",
    "    for element in numeros:\n",
    "        total += int(element)\n",
    "    return total\n",
    "\n",
    "\n",
    "list = input(\"Numeros:\")\n",
    "\n",
    "print('Soma:',sum(list))"
   ]
  },
  {
   "cell_type": "markdown",
   "id": "ac8223a3",
   "metadata": {},
   "source": [
    "### Exercício 12\n",
    "Escreve uma função que recebe como parâmetro uma lista e retorna 3 listas: a lista recebida dividida em 3\n",
    "partes iguais. Teste sua implementação\n",
    "\n",
    "b = [1, 2, 3, 4, 5, 6, 7, 8, 9, 10, 11, 12, 13]"
   ]
  },
  {
   "cell_type": "code",
   "execution_count": 1,
   "id": "5968966b",
   "metadata": {},
   "outputs": [
    {
     "name": "stdout",
     "output_type": "stream",
     "text": [
      "[[1, 2, 3, 4, 5], [6, 7, 8, 9, 10], [11, 12, 13, '0', '0']]\n"
     ]
    }
   ],
   "source": [
    "\n",
    "## essa solução não funcionou no jupyter porém em todos compiladores que testei estava correta\n",
    "## problema semelhante a questão 13\n",
    "\n",
    "def divLista(lista, n):\n",
    "    for element in range(0, len(lista), n):\n",
    "        yield lista[element:element + n]\n",
    "    return lista\n",
    "    \n",
    "b = [1, 2, 3, 4, 5, 6, 7, 8, 9, 10, 11, 12,13]\n",
    "\n",
    "# para nao perder dados e ter saidas do msm tamanho\n",
    "# foram colocados zeros até a lista ser divisiivel por 3\n",
    "while(len(b)%3 != 0): \n",
    "    b.append(\"0\")\n",
    "bLen = int(len(b)/3)\n",
    "\n",
    "listaDividida = list((divLista(b, bLen)))\n",
    "\n",
    "print(listaDividida)"
   ]
  },
  {
   "cell_type": "markdown",
   "id": "575670e8",
   "metadata": {},
   "source": [
    "### Exercício 13\n",
    "Dado o dicionário a seguir:\n",
    "\n",
    "speed = {'jan':47, 'feb':52, 'march':47, 'April':44, 'May':52, 'June':53, 'july':54, 'Aug':44, 'Sept':54}\n",
    "\n",
    "Crie uma lista com todos os valores (não as chaves!) e coloque numa lista de forma que não haja valores\n",
    "duplicados.\n"
   ]
  },
  {
   "cell_type": "code",
   "execution_count": 3,
   "id": "f5b701e0",
   "metadata": {},
   "outputs": [
    {
     "name": "stdout",
     "output_type": "stream",
     "text": [
      "[44, 47, 52, 53, 54]\n"
     ]
    }
   ],
   "source": [
    "def dicValues(dic):\n",
    "    return (set(dic.values()))\n",
    "    #return list(set(dic.values())) #essa conversao nao funcionou no jupyter porém em todos compiladores que testei estava correta\n",
    "\n",
    "speed = {'jan':47, 'feb':52, 'march':47, 'April':44, 'May':52, 'June':53, 'july':54, 'Aug':44, 'Sept':54}\n",
    " \n",
    "print(dicValues(speed))"
   ]
  },
  {
   "cell_type": "markdown",
   "id": "61a1a7fe",
   "metadata": {},
   "source": [
    "### Exercício 14\n",
    "Calcule o valor mínimo, valor máximo, valor médio e a mediana da lista gerada na célula abaixo:\n",
    "\n",
    "Obs.: Lembrem-se, para calcular a mediana a lista deve estar ordenada!\n",
    "\n",
    "import random\n",
    "-# amostra aleatoriamente 50 números do intervalo 0...500\n",
    "random_list = random.sample(range(500), 50)"
   ]
  },
  {
   "cell_type": "code",
   "execution_count": null,
   "id": "672d305d",
   "metadata": {},
   "outputs": [],
   "source": [
    "def mediumValue(list):\n",
    "    soma = 0\n",
    "    for element in list:\n",
    "        soma += element\n",
    "    media = soma/(len(list))\n",
    "    return media    \n",
    "        \n",
    "# amostra aleatoriamente 50 números do intervalo 0...500\n",
    "\n",
    "import random\n",
    "random_list = random.sample(range(500), 50)\n",
    "\n",
    "random_list.sort()\n",
    "\n",
    "print(random_list)\n",
    "\n",
    "length = len(random_list)\n",
    "\n",
    "print('Menor:', random_list[0])\n",
    "\n",
    "print('Maior:', random_list[length-1])\n",
    "\n",
    "print('Média',mediumValue(random_list))\n",
    "\n",
    "print('Mediana:', random_list[int(length/2)])"
   ]
  },
  {
   "cell_type": "markdown",
   "id": "447a1b13",
   "metadata": {},
   "source": [
    "### Exercício 15\n",
    "Imprima a lista da célula abaixo de trás para frente.\n",
    "\n",
    "a = [1, 1, 2, 3, 5, 8, 13, 21, 34, 55, 89]"
   ]
  },
  {
   "cell_type": "code",
   "execution_count": null,
   "id": "c7092be1",
   "metadata": {},
   "outputs": [],
   "source": [
    "a = [1, 1, 2, 3, 5, 8, 13, 21, 34, 55, 89]\n",
    "print(a[::-1])"
   ]
  }
 ],
 "metadata": {
  "kernelspec": {
   "display_name": "Python 3.9.4 64-bit",
   "language": "python",
   "name": "python3"
  },
  "language_info": {
   "codemirror_mode": {
    "name": "ipython",
    "version": 3
   },
   "file_extension": ".py",
   "mimetype": "text/x-python",
   "name": "python",
   "nbconvert_exporter": "python",
   "pygments_lexer": "ipython3",
   "version": "3.9.4"
  },
  "vscode": {
   "interpreter": {
    "hash": "2deb7cf860cc7fd3a77031a4d28667aa31f29c46dfc55481c8bdaeda7d90f5bb"
   }
  }
 },
 "nbformat": 4,
 "nbformat_minor": 5
}
