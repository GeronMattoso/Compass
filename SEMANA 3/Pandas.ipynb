{
 "cells": [
  {
   "cell_type": "markdown",
   "id": "6d445e86",
   "metadata": {},
   "source": [
    "<head>\n",
    "    <h1>Pandas<h1>\n",
    "    <head>\n",
    "<div>\n",
    "<img align=\"right\" alt=\"Geron-Python\" height=\"80\" width=\"80\" \n",
    "src=\"https://cdn.jsdelivr.net/gh/devicons/devicon/icons/pandas/pandas-original-wordmark.svg\">\n",
    "</div>"
   ]
  },
  {
   "cell_type": "markdown",
   "id": "085e01e4",
   "metadata": {},
   "source": [
    "### Exercicío 1 \n",
    "Leia o arquivo actors.csv e faça os seguintes cálculos sobre o conjunto de dados utilizando Pandas\n",
    "\n",
    "* O ator/atriz com maior número de filmes e o respectivo número de filmes.\n",
    "* A média do número de filmes\n",
    "* O ator/atriz com a maior média por filme.\n",
    "* O nome do(s) filme(s) mais frequente(s) e sua respectiva frequência."
   ]
  },
  {
   "cell_type": "code",
   "execution_count": null,
   "id": "4be88a4d",
   "metadata": {},
   "outputs": [],
   "source": [
    "import pandas as pd\n",
    "\n",
    "data = pd.read_csv('actors.csv', sep=',')"
   ]
  },
  {
   "cell_type": "markdown",
   "id": "f8f5efb7",
   "metadata": {},
   "source": [
    "* O ator/atriz com maior número de filmes e o respectivo número de filmes."
   ]
  },
  {
   "cell_type": "code",
   "execution_count": null,
   "id": "3a8d8ab0",
   "metadata": {},
   "outputs": [],
   "source": [
    "numeroDeFilmes = data[['Actor', 'Number of Movies']][data['Number of Movies'] == data['Number of Movies'].max()]\n",
    "print(numeroDeFilmes)"
   ]
  },
  {
   "cell_type": "markdown",
   "id": "b465de0d",
   "metadata": {},
   "source": [
    "* A média do número de filmes"
   ]
  },
  {
   "cell_type": "code",
   "execution_count": null,
   "id": "4d98c745",
   "metadata": {},
   "outputs": [],
   "source": [
    "mediaNumeroFilmes = data['Number of Movies'].mean()\n",
    "print(mediaNumeroFilmes)"
   ]
  },
  {
   "cell_type": "markdown",
   "id": "e8970d0c",
   "metadata": {},
   "source": [
    "* O ator/atriz com a maior média por filme."
   ]
  },
  {
   "cell_type": "code",
   "execution_count": null,
   "id": "dd120d07",
   "metadata": {},
   "outputs": [],
   "source": [
    "avgMovie = data[['Actor', 'Average per Movie']][data['Average per Movie'] == data['Average per Movie'].max()]\n",
    "print(avgMovie)"
   ]
  },
  {
   "cell_type": "markdown",
   "id": "d366380f",
   "metadata": {},
   "source": [
    "* O nome do(s) filme(s) mais frequente(s) e sua respectiva frequência."
   ]
  },
  {
   "cell_type": "code",
   "execution_count": null,
   "id": "82f256d8",
   "metadata": {},
   "outputs": [],
   "source": [
    "movieFreq = data[\"\",'#1 Movie'].value_counts().max()\n",
    "print(movieFreq)"
   ]
  },
  {
   "cell_type": "markdown",
   "id": "afad9e05",
   "metadata": {},
   "source": [
    "###  ---------------------------------------------------------------------------------------------------------------------------"
   ]
  },
  {
   "cell_type": "markdown",
   "id": "66c83ecf",
   "metadata": {},
   "source": [
    "### Exercicío 2\n",
    "Leia o arquivo csv googleplaystore.csv e realize as seguintes atividades sobre o dataset utilizando Pandas:\n",
    "* Faça um gráfico de barras contendo os top 5 apps por número de instalação.\n",
    "* Faça um gráfico de pizza (pie chart) mostrando as categorias de apps existentes no datase de acordo com a frequência em que elas aparecem.\n",
    "* Mostre qual o app mais caro existente no dataset.\n",
    "* Mostre quantos apps são classificados como “Mature 17+”.\n",
    "* Mostre o top 10 apps por número de reviews bem como o respectivo número de reviews. Ordene a lista de forma decrescente por número de reviews.\n"
   ]
  },
  {
   "cell_type": "markdown",
   "id": "da08e3c2",
   "metadata": {},
   "source": [
    "<b>tratando dados</b>"
   ]
  },
  {
   "cell_type": "code",
   "execution_count": null,
   "id": "26b91382",
   "metadata": {},
   "outputs": [],
   "source": [
    "import pandas as pd\n",
    "\n",
    "\n",
    "googleDf = pd.read_csv('googleplaystore.csv', sep=',')\n",
    "\n",
    "# print(googleDf.info())\n",
    "# print(googleDf.isna().sum())\n",
    "\n",
    "googleDf = googleDf.drop_duplicates(subset=['App'])\n",
    "googleDf = googleDf.dropna()\n",
    "googleDf['Reviews'] = pd.to_numeric(googleDf['Reviews'])\n",
    "\n",
    "googleDf['Price'] = googleDf['Price'].str.replace('$','')\n",
    "googleDf['Price'] = pd.to_numeric(googleDf['Price'])\n",
    "\n",
    "googleDf['Installs'] = googleDf['Installs'].str.replace('+','')\n",
    "googleDf['Installs'] = googleDf['Installs'].str.replace(',','')\n",
    "googleDf['Installs'] = pd.to_numeric(googleDf['Installs'])\n",
    "\n",
    "print(googleDf.info())\n",
    "print(googleDf.isna().sum())\n"
   ]
  },
  {
   "cell_type": "code",
   "execution_count": null,
   "id": "ce3214ed",
   "metadata": {},
   "outputs": [],
   "source": [
    "#faça um gráfico de barras contendo os top 5 apps por número de instalação.\n",
    "googleDf.sort_values(by=['Installs'], ascending=False).head(5).plot.barh(x='App', y='Installs', figsize=(10,10))"
   ]
  },
  {
   "cell_type": "code",
   "execution_count": null,
   "id": "5c36ac00",
   "metadata": {},
   "outputs": [],
   "source": [
    "#Faça um gráfico de pizza (pie chart) mostrando as categorias de apps existentes no datase de acordo com a frequência em que elas aparecem\n",
    "categoryFreq = googleDf.Category.value_counts()\n",
    "categoryFreq.plot.pie(figsize=(15, 15))"
   ]
  },
  {
   "cell_type": "code",
   "execution_count": null,
   "id": "7073727c",
   "metadata": {},
   "outputs": [],
   "source": [
    "#Mostre qual o app mais caro existente no dataset.\n",
    "maisCaro = googleDf[googleDf['Price'] == googleDf['Price'].max()]\n",
    "maisCaro\n",
    "\n",
    "#googleDf.sort_values(['Price'], ascending=False).head(1)"
   ]
  },
  {
   "cell_type": "code",
   "execution_count": null,
   "id": "e6d919ad",
   "metadata": {},
   "outputs": [],
   "source": [
    "#Mostre quantos apps são classificados como “Mature 17+”\n",
    "googleDf['Content Rating'][googleDf['Content Rating'] == 'Mature 17+'].value_counts()"
   ]
  },
  {
   "cell_type": "code",
   "execution_count": null,
   "id": "80334c12",
   "metadata": {},
   "outputs": [],
   "source": [
    "#Mostre o top 10 apps por número de reviews bem como o respectivo número de reviews. Ordene a lista de forma decrescente por número de reviews\n",
    "googleDf.sort_values(['Reviews'], ascending=False).head(10)[['App','Reviews']]"
   ]
  },
  {
   "cell_type": "markdown",
   "id": "b2d04022",
   "metadata": {},
   "source": [
    "###  ---------------------------------------------------------------------------------------------------------------------------"
   ]
  },
  {
   "cell_type": "markdown",
   "id": "d0851dca",
   "metadata": {},
   "source": [
    "### Exercicío 3\n",
    "Leia o arquivo csv wines_SPA.csv e realize as seguintes atividades sobre o dataset utilizando Pandas:\n",
    "* Mostre qual a vinícola (winery) que possui o maior número de reviews (num_reviews) nos últimos 20 anos.\n",
    "* Mostre quais são as 5 regiões com a média de preço mais alta e mais baixa.\n",
    "* A acidez (acidity) varia entre valores até 5, mostre a média de acidez por ano em todo o intervalo existente na coluna ano (year).\n",
    "* Mostre qual vinho (wine) possui o maior número de safras em todo o intervalo existente na coluna ano (year)."
   ]
  },
  {
   "cell_type": "markdown",
   "id": "6fd61b0f",
   "metadata": {},
   "source": [
    "<b>Tratando Dados</b>"
   ]
  },
  {
   "cell_type": "code",
   "execution_count": null,
   "id": "f48d4a6d",
   "metadata": {},
   "outputs": [],
   "source": [
    "import pandas as pd\n",
    "\n",
    "winesDf = pd.read_csv('wines_SPA.csv', sep=';')\n",
    "\n",
    "print(winesDf.info())\n",
    "print(winesDf.isna().sum())\n",
    "\n",
    "winesDf = winesDf.drop_duplicates()\n",
    "winesDf = winesDf.dropna()\n",
    "winesDf = winesDf[pd.to_numeric(winesDf['year'], errors='coerce').notnull()]\n",
    "winesDf['year'] = pd.to_numeric(winesDf['year'])\n",
    "\n",
    "winesDf = winesDf[pd.to_numeric(winesDf['price'], errors='coerce').notnull()]\n",
    "winesDf['price'] = pd.to_numeric(winesDf['price'])\n",
    "\n",
    "print(winesDf.info())\n",
    "print(winesDf.isna().sum())"
   ]
  },
  {
   "cell_type": "code",
   "execution_count": null,
   "id": "eca262c3",
   "metadata": {},
   "outputs": [],
   "source": [
    "#Mostre qual a vinícola (winery) que possui o maior número de reviews (num_reviews) nos últimos 20 anos\n",
    "maiorNumReviews = winesDf.where(winesDf['year']>=2002)\n",
    "maiorNumReviews = maiorNumReviews.sort_values(['num_reviews'], ascending=False).head(1)\n",
    "maiorNumReviews"
   ]
  },
  {
   "cell_type": "code",
   "execution_count": null,
   "id": "8bb836c6",
   "metadata": {},
   "outputs": [],
   "source": [
    "#Mostre quais são as 5 regiões com a média de preço mais alta e mais baixa\n",
    "largest = winesDf.groupby('region')['price'].mean().nlargest(n=5)\n",
    "\n",
    "smallest = winesDf.groupby('region')['price'].mean().nsmallest(n=5)\n",
    "\n",
    "print(largest, smallest)"
   ]
  },
  {
   "cell_type": "code",
   "execution_count": null,
   "id": "55937dab",
   "metadata": {},
   "outputs": [],
   "source": [
    "#A acidez (acidity) varia entre valores até 5, mostre a média de acidez por ano em todo o intervalo existente na coluna ano (year).\n",
    "winesAciddity = winesDf.groupby('year')[['acidity']].mean()\n",
    "winesAciddity"
   ]
  },
  {
   "cell_type": "code",
   "execution_count": null,
   "id": "e4873578",
   "metadata": {},
   "outputs": [],
   "source": [
    "#Mostre qual vinho (wine) possui o maior número de safras em todo o intervalo existente na coluna ano (year)\n",
    "Safras = winesDf['wine'].value_counts().head(1)\n",
    "Safras"
   ]
  },
  {
   "cell_type": "code",
   "execution_count": null,
   "id": "5c43d926",
   "metadata": {},
   "outputs": [],
   "source": []
  }
 ],
 "metadata": {
  "kernelspec": {
   "display_name": "Python 3.9.4 64-bit",
   "language": "python",
   "name": "python3"
  },
  "language_info": {
   "codemirror_mode": {
    "name": "ipython",
    "version": 3
   },
   "file_extension": ".py",
   "mimetype": "text/x-python",
   "name": "python",
   "nbconvert_exporter": "python",
   "pygments_lexer": "ipython3",
   "version": "3.9.4"
  },
  "vscode": {
   "interpreter": {
    "hash": "2deb7cf860cc7fd3a77031a4d28667aa31f29c46dfc55481c8bdaeda7d90f5bb"
   }
  }
 },
 "nbformat": 4,
 "nbformat_minor": 5
}
