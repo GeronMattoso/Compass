{
 "cells": [
  {
   "cell_type": "markdown",
   "id": "06022211",
   "metadata": {},
   "source": [
    "<head>\n",
    "    <h1>Numpy<h1>\n",
    "</head>\n",
    "    <div>\n",
    "    <img align=\"right\" alt=\"Geron-Python\" height=\"80\" width=\"80\" \n",
    "src=\"https://cdn.jsdelivr.net/gh/devicons/devicon/icons/numpy/numpy-original-wordmark.svg\">\n",
    "    </div>"
   ]
  },
  {
   "cell_type": "markdown",
   "id": "5dc11197",
   "metadata": {},
   "source": [
    "### Exercício 1\n",
    "Crie um array 5x5 com a sequência 1...25 (incluso) e faça a soma dos elementos da diagonal"
   ]
  },
  {
   "cell_type": "code",
   "execution_count": null,
   "id": "2e8cf985",
   "metadata": {},
   "outputs": [],
   "source": [
    "import numpy as np\n",
    "\n",
    "def diagSum(array):\n",
    "    soma = 0\n",
    "    for lin in range(array.shape[0]):\n",
    "        for col in range(array.shape[1]):\n",
    "            if lin==col:\n",
    "                soma += array[lin][col]\n",
    "    return soma\n",
    "\n",
    "array = np.arange(1,26)\n",
    "array = array.reshape((5,5))\n",
    "\n",
    "soma = diagSum(array)\n",
    "\n",
    "print(array)\n",
    "print(soma)\n",
    "\n",
    "#print(np.trace(array))"
   ]
  },
  {
   "cell_type": "markdown",
   "id": "859f9b97",
   "metadata": {},
   "source": [
    "### Exercício 2\n",
    "Crie um array 5x5 com a sequência de números pares entre 0...50 (incluso) e faça as seguintes operações:\n",
    "* Soma das linhas\n",
    "* Soma das Colunas\n",
    "* Média dos elementos da última linha\n",
    "* Média dos elementos da última coluna\n"
   ]
  },
  {
   "cell_type": "code",
   "execution_count": null,
   "id": "c47b8da6",
   "metadata": {},
   "outputs": [],
   "source": [
    "import numpy as np\n",
    "\n",
    "def SumLines(array):\n",
    "    return np.sum(array, axis = 1)\n",
    "\n",
    "def SumColumns(array):\n",
    "    return np.sum(array, axis = 0)\n",
    "\n",
    "def lastLineMean(array):\n",
    "    return np.mean(array, axis=1)[-1]\n",
    "\n",
    "def lastColumnMean(array):\n",
    "    return np.mean(array, axis=0)[-1]\n",
    "\n",
    "array = np.arange(2,51,2)\n",
    "array = array.reshape((5,5))\n",
    "\n",
    "print(array)\n",
    "\n",
    "print(\"Soma da linhas\", SumLines(array))\n",
    "\n",
    "print(\"Soma da Colunas\", SumColumns(array))\n",
    "\n",
    "print (\"Média da última linha =\", lastLineMean(array))\n",
    "\n",
    "print(\"Média da última Column =\", lastColumnMean(array))"
   ]
  },
  {
   "cell_type": "markdown",
   "id": "cc75f08a",
   "metadata": {},
   "source": [
    "### Exercício 3\n",
    "Dado o array 2D abaixo, substitua o seu maior valor por 0.\n",
    "* np.random.normal(0, 3, size=(5, 5))"
   ]
  },
  {
   "cell_type": "code",
   "execution_count": null,
   "id": "33a53fed",
   "metadata": {},
   "outputs": [],
   "source": [
    "import numpy as np\n",
    "\n",
    "def maxToZero(array):\n",
    "    max = array.max()\n",
    "    print(\"\\nValor maximo era:\", max)\n",
    "    array[array >= max] = 0\n",
    "    return array\n",
    "\n",
    "array2D = np.random.normal(0, 3, size=(5, 5))\n",
    "\n",
    "#print(array2D)\n",
    "\n",
    "print(maxToZero(array2D))"
   ]
  },
  {
   "cell_type": "markdown",
   "id": "fcc6bc8e",
   "metadata": {},
   "source": [
    "### Exercício 4\n",
    "A partir das arrays abaixo, caso seja possível, realize o produto das mesmas:\n",
    "* np.random.uniform(size=(5, 3))\n",
    "* np.random.uniform(size=(3, 4))\n"
   ]
  },
  {
   "cell_type": "code",
   "execution_count": null,
   "id": "cb231c19",
   "metadata": {},
   "outputs": [],
   "source": [
    "import numpy as np\n",
    "\n",
    "def arrayProd(a, b):\n",
    "    try:\n",
    "        return a.dot(b)\n",
    "    except:\n",
    "        print(\"Não é possivel realizar o produto entre essas duas matrizes\")\n",
    "        exit()\n",
    "\n",
    "a = np.random.uniform(size=(5,3))\n",
    "b = np.random.uniform(size=(3,4))\n",
    "\n",
    "print(arrayProd(a,b))\n"
   ]
  },
  {
   "cell_type": "markdown",
   "id": "91877a1b",
   "metadata": {},
   "source": [
    "### Exercício 5\n",
    "Dado o array abaixo, converta-o para um array do tipo int32.\n",
    "* np.arange(9, dtype=np.float32).reshape(3, 3)\n"
   ]
  },
  {
   "cell_type": "code",
   "execution_count": null,
   "id": "c5e236f4",
   "metadata": {},
   "outputs": [],
   "source": [
    "import numpy as np\n",
    "\n",
    "array = np.arange(9, dtype=np.float32).reshape(3, 3)\n",
    "\n",
    "array = array.astype(int)\n",
    "\n",
    "print(array)"
   ]
  },
  {
   "cell_type": "markdown",
   "id": "acaba18f",
   "metadata": {},
   "source": [
    "### Exercício 6\n",
    "Dado o array abaixo, some 10 em todos os elementos da última coluna.\n",
    "* np.random.uniform(size=(8, 8))"
   ]
  },
  {
   "cell_type": "code",
   "execution_count": null,
   "id": "e9e9d19f",
   "metadata": {},
   "outputs": [],
   "source": [
    "import numpy as np\n",
    "\n",
    "array = np.random.uniform(size=(8, 8))\n",
    "\n",
    "print(array)\n",
    "\n",
    "array[:, -1] = array[:, -1] + 10\n",
    "\n",
    "print(\"\\n\\n\")\n",
    "print(array)"
   ]
  },
  {
   "cell_type": "markdown",
   "id": "562f8a29",
   "metadata": {},
   "source": [
    "### Exercício 7\n",
    "Dados os dois arrays 2x4 abaixo, empilhe ambos formando um novo array 4x4.\n",
    "* np.array([[0,3,4,5], [7, 10, 9, 2]])\n",
    "* np.array([[1,4,9,12], [15, 22, 19, 17]])"
   ]
  },
  {
   "cell_type": "code",
   "execution_count": null,
   "id": "bcecd3c8",
   "metadata": {},
   "outputs": [],
   "source": [
    "import numpy as np\n",
    "\n",
    "a = np.array([[0,3,4,5], [7, 10, 9, 2]])\n",
    "b = np.array([[1,4,9,12], [15, 22, 19, 17]])\n",
    "\n",
    "print(a)\n",
    "print(\"\\n\")\n",
    "print(b)\n",
    "print(\"\\n\")\n",
    "\n",
    "c = np.concatenate((a,b), axis = 0)\n",
    "print(c)\n"
   ]
  },
  {
   "cell_type": "markdown",
   "id": "a6eda94e",
   "metadata": {},
   "source": [
    "### Exercício 8\n",
    "Dado o array definido por np.arange(25).reshape(5, 5), realize as seguintes operações sem utilizar nenhum\n",
    "tipo de loop (for / while):\n",
    "* A média das linhas 0, 2 e 3.\n",
    "* A média das colunas 0, 1 e 4.\n",
    "* A soma dos elementos das duas diagonais."
   ]
  },
  {
   "cell_type": "code",
   "execution_count": null,
   "id": "1f1f81bf",
   "metadata": {},
   "outputs": [],
   "source": [
    "import numpy as np\n",
    "\n",
    "array = np.arange(25).reshape(5, 5)\n",
    "\n",
    "meanLines = np.mean(array[[0,2,3][:]], axis=1)\n",
    "meanColunms = np.mean(array[:][:,[0,1,4]], axis=0)\n",
    "diagSum = array.trace() + np.fliplr(array).trace()\n",
    "\n",
    "print(array)\n",
    "\n",
    "print(\"Média linhas 0, 2 e 3:\", meanLines)\n",
    "print(\"Média colunas 0, 1 e 4:\", meanColunms)\n",
    "print(\"A soma das duas diagonais:\", diagSum)"
   ]
  },
  {
   "cell_type": "markdown",
   "id": "78e707f1",
   "metadata": {},
   "source": [
    "### Exercício 9\n",
    "Dado o array abaixo, selecione os valores Pares e todos os valores maiores que 8, seu código não deve conter\n",
    "nenhum tipo de loop (for / while):\n",
    "* np.arange(25).reshape(5, 5)\n"
   ]
  },
  {
   "cell_type": "code",
   "execution_count": null,
   "id": "b424b43d",
   "metadata": {},
   "outputs": [],
   "source": [
    "import numpy as np\n",
    "\n",
    "array = np.arange(25).reshape(5, 5)\n",
    "print(array)\n",
    "print(\"\\n\")\n",
    "\n",
    "pares = np.where(array%2==0)\n",
    "print(\"Pares:\", array[pares])\n",
    "\n",
    "maior8 = np.where(array>8)\n",
    "print(\"Maiores que 8:\", array[maior8])"
   ]
  },
  {
   "cell_type": "markdown",
   "id": "944fe193",
   "metadata": {},
   "source": [
    "### Exercício 10\n",
    "Dado o array 2D abaixo, substitua os 5 menores valores por -1, seu código não deve conter nenhum tipo de\n",
    "loop (for / while):\n",
    "* a = np.random.randint(0, 50, (5, 5))"
   ]
  },
  {
   "cell_type": "code",
   "execution_count": null,
   "id": "6aab1aad",
   "metadata": {},
   "outputs": [],
   "source": [
    "import numpy as np\n",
    "\n",
    "array = np.random.randint(0, 50, (5, 5))\n",
    "\n",
    "#print(array)\n",
    "\n",
    "ordenado = list(set(np.sort(array, axis = None)))#lista com valores ordenados e sem repticao\n",
    "print(\"removidos:\", ordenado[0:][:5])\n",
    "print(\"------------------\")\n",
    "\n",
    "print(array)\n",
    "print(\"------------------\")\n",
    "array[array <= ordenado[4]] = -1 # remove todos valores menores ou iguais ao quinto da lista dos ordenados\n",
    "print(array)\n"
   ]
  }
 ],
 "metadata": {
  "kernelspec": {
   "display_name": "Python 3.9.4 64-bit",
   "language": "python",
   "name": "python3"
  },
  "language_info": {
   "codemirror_mode": {
    "name": "ipython",
    "version": 3
   },
   "file_extension": ".py",
   "mimetype": "text/x-python",
   "name": "python",
   "nbconvert_exporter": "python",
   "pygments_lexer": "ipython3",
   "version": "3.9.4"
  },
  "vscode": {
   "interpreter": {
    "hash": "2deb7cf860cc7fd3a77031a4d28667aa31f29c46dfc55481c8bdaeda7d90f5bb"
   }
  }
 },
 "nbformat": 4,
 "nbformat_minor": 5
}
